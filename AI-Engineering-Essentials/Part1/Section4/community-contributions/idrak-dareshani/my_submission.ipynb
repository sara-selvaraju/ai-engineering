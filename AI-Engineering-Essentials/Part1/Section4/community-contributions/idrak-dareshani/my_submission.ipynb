{
 "cells": [
  {
   "cell_type": "markdown",
   "metadata": {},
   "source": [
    "### Step 1: Import Libraries and API Keys"
   ]
  },
  {
   "cell_type": "code",
   "execution_count": 4,
   "metadata": {},
   "outputs": [],
   "source": [
    "import os\n",
    "from tavily import TavilyClient\n",
    "from dotenv import load_dotenv\n",
    "from IPython.display import Markdown, display\n",
    "\n",
    "load_dotenv()\n",
    "\n",
    "OPENAI_API_KEY = os.getenv(\"OPENAI_API_KEY\")\n",
    "TAVILY_API_KEY = os.getenv(\"TAVILY_API_KEY\")\n",
    "\n",
    "if TAVILY_API_KEY is None:\n",
    "    raise Exception(\"API key is missing\")"
   ]
  },
  {
   "cell_type": "markdown",
   "metadata": {},
   "source": [
    "### Step 2: Grab the latest news articles"
   ]
  },
  {
   "cell_type": "code",
   "execution_count": 21,
   "metadata": {},
   "outputs": [],
   "source": [
    "from tavily import TavilyClient\n",
    "\n",
    "tavily_client = TavilyClient(TAVILY_API_KEY)\n",
    "\n",
    "search_response = tavily_client.search(\"Bring up some of the latest news articles about Application Modernization.\")"
   ]
  },
  {
   "cell_type": "code",
   "execution_count": 22,
   "metadata": {},
   "outputs": [
    {
     "data": {
      "text/markdown": [
       "### Latest Application Modernization Strategy And Trends\n",
       "\n",
       "As per the latest research report of Market Research Future (MRFR), the market of application modernization services is poised to attain $24.8 Billion at a CAGR of 16.8% by 2030. In a recent State of the CIO Study 2023 , application modernization is the third highest initiative for CIOs.\n",
       "\n",
       "### Top 13 App Modernization Trends To Consider in 2024 - Net Solutions\n",
       "\n",
       "Micro front-end modernization involves changing individual components and technologies to speed up modernization. That means reusing application elements from other modernization projects with similar features and requirements. It saves time and resources because software teams aren't required to build everything from the ground up.\n",
       "\n",
       "### Recent Application Modernization Trends for Businesses\n",
       "\n",
       "However, application modernization service is not without its challenges. Here are some tips for overcoming the most common application modernization challenges and guaranteeing a smooth transition. 1. Legacy System Complexity. In terms of application modernization trends, what is the most significant obstacle? Outdated architectures.\n",
       "\n",
       "### Accelerating AI innovation through application modernization\n",
       "\n",
       "The good news is modern cloud based architectures can deliver robust security, data governance, and AI guardrails like content safety to protect AI applications from security threats and ensure\n",
       "\n",
       "### How To 10x Your App Modernization Impact With AI Agents - Forbes\n",
       "\n",
       "When used appropriately, AI isn't a 10% or even a 20% multiplier—it can be a 10X multiplier, accelerating the app modernization process and solving timeline and cost challenges of modernization.\n",
       "\n"
      ],
      "text/plain": [
       "<IPython.core.display.Markdown object>"
      ]
     },
     "metadata": {},
     "output_type": "display_data"
    }
   ],
   "source": [
    "news_articles = \"\"\n",
    "\n",
    "for result in search_response[\"results\"]:\n",
    "    news_articles += f\"### {result['title']}\\n\\n{result['content']}\\n\\n\"\n",
    "\n",
    "display(Markdown(news_articles))"
   ]
  },
  {
   "cell_type": "markdown",
   "metadata": {},
   "source": [
    "### Step 3: Summarize and write a social media post"
   ]
  },
  {
   "cell_type": "code",
   "execution_count": 29,
   "metadata": {},
   "outputs": [
    {
     "data": {
      "text/markdown": [
       "# Application Modernization in 2024: Growth & Innovation\n",
       "\n",
       "📈 The app modernization services market is projected to reach $24.8B by 2030 with 16.8% CAGR.\n",
       "\n",
       "🔑 Key trends include:\n",
       "- Micro front-end modernization for faster implementation\n",
       "- Cloud architectures delivering robust AI security\n",
       "- AI as a 10X multiplier for modernization efforts\n",
       "\n",
       "Despite legacy system complexity challenges, modernization remains a top-3 priority for CIOs in 2023.\n",
       "\n",
       "Are you leveraging these trends to accelerate your digital transformation journey? The future is modular, AI-powered, and built on modern architectures.\n",
       "\n",
       "#AppModernization #DigitalTransformation #TechTrends"
      ],
      "text/plain": [
       "<IPython.core.display.Markdown object>"
      ]
     },
     "metadata": {},
     "output_type": "display_data"
    }
   ],
   "source": [
    "system_message = \"\"\"\n",
    "You are a helpful assistant whos job is to accurately summarize long series of \n",
    "news articles provided to you by the user and write up a compelling and easy to \n",
    "digest social media post.\n",
    "\"\"\"\n",
    "\n",
    "prompt = f\"\"\"\n",
    "The following is a series of news articles about application modernization. Please summarize\n",
    "the articles and write a compelling social media post for LinkedIn highlighting\n",
    "key points about each article.\n",
    "\n",
    "The post should be short and concise and should not be more than 100 words.\n",
    "\n",
    "{news_articles}\n",
    "\n",
    "\"\"\"\n",
    "\n",
    "import anthropic\n",
    "\n",
    "anthropic_client = anthropic.Anthropic()\n",
    "\n",
    "message = anthropic_client.messages.create(\n",
    "    model=\"claude-3-7-sonnet-20250219\",\n",
    "    max_tokens=8000,\n",
    "    temperature=1,\n",
    "    system=system_message,\n",
    "    thinking= {\n",
    "        \"type\": \"enabled\",\n",
    "        \"budget_tokens\": 4000\n",
    "    },\n",
    "    messages=[\n",
    "        {\n",
    "            \"role\": \"user\",\n",
    "            \"content\": prompt\n",
    "        }\n",
    "    ]\n",
    ")\n",
    "\n",
    "chat_response = message.content[1].text\n",
    "display(Markdown(chat_response))"
   ]
  },
  {
   "cell_type": "markdown",
   "metadata": {},
   "source": [
    "### Step 4: Enhance structure and layout"
   ]
  },
  {
   "cell_type": "code",
   "execution_count": 30,
   "metadata": {},
   "outputs": [
    {
     "data": {
      "text/markdown": [
       "# Application Modernization in 2024: Growth & Innovation\n",
       "\n",
       "📈 The app modernization services market is projected to reach $24.8B by 2030 with 16.8% CAGR.\n",
       "\n",
       "🔑 Key trends include:\n",
       "- Micro front-end modernization for faster implementation\n",
       "- Cloud architectures delivering robust AI security\n",
       "- AI as a 10X multiplier for modernization efforts\n",
       "\n",
       "Despite legacy system complexity challenges, modernization remains a top-3 priority for CIOs in 2023.\n",
       "\n",
       "Are you leveraging these trends to accelerate your digital transformation journey? The future is modular, AI-powered, and built on modern architectures.\n",
       "\n",
       "#AppModernization #DigitalTransformation #TechTrends"
      ],
      "text/plain": [
       "<IPython.core.display.Markdown object>"
      ]
     },
     "metadata": {},
     "output_type": "display_data"
    }
   ],
   "source": [
    "system_message = \"You are a helpful assistant.\"\n",
    "\n",
    "reasoning_prompt = f\"\"\"\n",
    "I've been given a social media post.\n",
    "\n",
    "I want you to analyze the style of writing and the key points mentioned in the post\n",
    "and provide me with a reasoning as to why this post is effective or not effective\n",
    "for a LinkedIn audience for those who may have little to no knowledge about application modernization.\n",
    "\n",
    "After this, restructure the post according to the suggestions you have provided.\n",
    "\n",
    "Please provide your reasoning in a few sentences.\n",
    "\n",
    "Here is the post for context:\n",
    "\n",
    "{chat_response}\n",
    "\"\"\"\n",
    "message = anthropic_client.messages.create(\n",
    "    model=\"claude-3-7-sonnet-20250219\",\n",
    "    max_tokens=1000,\n",
    "    temperature=1,\n",
    "    system=system_message,\n",
    "    messages=[\n",
    "        {\n",
    "            \"role\": \"user\",\n",
    "            \"content\": reasoning_prompt\n",
    "        }\n",
    "    ]\n",
    ")\n",
    "\n",
    "reasoning_response = message.content[0].text\n",
    "display(Markdown(chat_response))"
   ]
  },
  {
   "cell_type": "markdown",
   "metadata": {},
   "source": [
    "### Challenge!!\n",
    "\n",
    "Build your own social media post generator!!!\n",
    "\n",
    "**Instructions**\n",
    "1. Modify the above code to your liking and build out this project using any other frontier models instead of OpenAIs models.\n",
    "\n",
    "2. You can keep the second cell (where we are grabbing information from the web) as it is but have your chosen models summarize and create the post and analyze it using a reasoning or thinking model. (Bonus points for using another tool)\n",
    "\n",
    "3. Place your contributions in the community-contributions folder of this section.\n",
    "\n",
    "4. Copy the generated post to use for LinkedIn.\n",
    "\n",
    "5. Tag the [SuperDataScience Community Projects](https://www.linkedin.com/showcase/superdatascience-community-projects/?viewAsMember=true) page for a chance to have your post shared to the SDS LinkedIn community. "
   ]
  },
  {
   "cell_type": "code",
   "execution_count": null,
   "metadata": {},
   "outputs": [],
   "source": []
  }
 ],
 "metadata": {
  "kernelspec": {
   "display_name": "ai_env",
   "language": "python",
   "name": "python3"
  },
  "language_info": {
   "codemirror_mode": {
    "name": "ipython",
    "version": 3
   },
   "file_extension": ".py",
   "mimetype": "text/x-python",
   "name": "python",
   "nbconvert_exporter": "python",
   "pygments_lexer": "ipython3",
   "version": "3.13.3"
  }
 },
 "nbformat": 4,
 "nbformat_minor": 2
}
