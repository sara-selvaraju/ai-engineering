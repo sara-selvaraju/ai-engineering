{
 "cells": [
  {
   "cell_type": "markdown",
   "metadata": {},
   "source": [
    "### Step 1: Import Libraries and API Keys"
   ]
  },
  {
   "cell_type": "code",
   "execution_count": 1,
   "metadata": {},
   "outputs": [],
   "source": [
    "import os\n",
    "from openai import OpenAI\n",
    "from dotenv import load_dotenv\n",
    "from IPython.display import Markdown, display\n",
    "\n",
    "load_dotenv()\n",
    "\n",
    "OPENAI_API_KEY = os.getenv(\"OPENAI_API_KEY\")\n",
    "\n",
    "if OPENAI_API_KEY is None:\n",
    "    raise Exception(\"API key is missing\")"
   ]
  },
  {
   "cell_type": "markdown",
   "metadata": {},
   "source": [
    "### Step 2: Grab the latest news articles"
   ]
  },
  {
   "cell_type": "code",
   "execution_count": 2,
   "metadata": {},
   "outputs": [],
   "source": [
    "client = OpenAI()\n",
    "\n",
    "completion = client.chat.completions.create(\n",
    "    model=\"gpt-4o-mini-search-preview\",\n",
    "    messages=[\n",
    "        {\n",
    "            \"role\": \"user\",\n",
    "            \"content\": \"Bring up some of the latest news articles around the field of AI.\",\n",
    "        }\n",
    "    ],\n",
    ")\n",
    "\n",
    "news_articles = completion.choices[0].message.content"
   ]
  },
  {
   "cell_type": "code",
   "execution_count": 3,
   "metadata": {},
   "outputs": [
    {
     "data": {
      "text/markdown": [
       "Here are some of the latest developments in the field of artificial intelligence:\n",
       "\n",
       "**Media and AI Partnerships**\n",
       "\n",
       "- *New York Times and Amazon Collaborate*: The New York Times (NYT) has entered into its first AI licensing agreement with Amazon. This multi-year deal allows Amazon to utilize NYT's editorial content, including articles from its main news site, the NYT Cooking app, and The Athletic sports platform, for various AI-related applications on Amazon-owned products and services. Financial details of the agreement were not disclosed. ([reuters.com](https://www.reuters.com/business/retail-consumer/new-york-times-amazon-sign-ai-licensing-deal-2025-05-29/?utm_source=openai))\n",
       "\n",
       "**AI in Healthcare**\n",
       "\n",
       "- *Restoring Voice with AI*: Robin Leaper, director of Norwalk Parks and Recreation, has regained her ability to speak using AI technology after losing her voice to ALS. By utilizing audio recordings from past city meetings, a library of her speech was created, enabling her to communicate through a computer-generated version of her own voice. This breakthrough showcases the potential of AI to significantly improve the quality of life for individuals battling degenerative diseases. ([axios.com](https://www.axios.com/local/des-moines/2025/05/29/als-ai-voice-norwalk-parks-director-elevenlabs?utm_source=openai))\n",
       "\n",
       "**AI and Employment**\n",
       "\n",
       "- *Business Insider Reduces Workforce*: Business Insider is laying off approximately 21% of its workforce due to declining web traffic and increasing reliance on generative AI tools like ChatGPT for news consumption. The company is also accelerating its use of AI to improve efficiency and enhance reader experience. ([reuters.com](https://www.reuters.com/technology/business-insider-cuts-21-workforce-memo-shows-2025-05-29/?utm_source=openai))\n",
       "\n",
       "**Public Opinion on AI Development**\n",
       "\n",
       "- *Desire for Slower AI Progress*: A recent Axios Harris poll reveals that 77% of Americans prefer slowing down AI development to ensure it is done correctly, even at the cost of delayed breakthroughs. This public sentiment contrasts with the rapid pace of innovation driven by tech companies and governments, particularly in the U.S. and China, racing toward artificial general intelligence (AGI). ([axios.com](https://www.axios.com/newsletters/axios-ai-plus-62025700-399b-11f0-b37f-b73dfdd12f1d?utm_source=openai))\n",
       "\n",
       "\n",
       "## Recent Developments in AI:\n",
       "- [New York Times partners with Amazon for first AI licensing deal](https://www.reuters.com/business/retail-consumer/new-york-times-amazon-sign-ai-licensing-deal-2025-05-29/?utm_source=openai)\n",
       "- [AI restores voice of Norwalk parks director with ALS](https://www.axios.com/local/des-moines/2025/05/29/als-ai-voice-norwalk-parks-director-elevenlabs?utm_source=openai)\n",
       "- [Business Insider cuts 21% of workforce, memo shows](https://www.reuters.com/technology/business-insider-cuts-21-workforce-memo-shows-2025-05-29/?utm_source=openai) "
      ],
      "text/plain": [
       "<IPython.core.display.Markdown object>"
      ]
     },
     "metadata": {},
     "output_type": "display_data"
    }
   ],
   "source": [
    "display(Markdown(news_articles))"
   ]
  },
  {
   "cell_type": "markdown",
   "metadata": {},
   "source": [
    "### Step 3: Summarize and write a social media post"
   ]
  },
  {
   "cell_type": "code",
   "execution_count": 4,
   "metadata": {},
   "outputs": [
    {
     "data": {
      "text/markdown": [
       "🚀 Exciting AI Developments!\n",
       "\n",
       "1️⃣ **New Partnerships**: The New York Times has partnered with Amazon, marking its first AI licensing deal to integrate editorial content across Amazon services. \n",
       "\n",
       "2️⃣ **Healthcare Breakthrough**: Robin Leaper, an ALS patient, has regained her voice through AI, showcasing its transformative potential for those with degenerative diseases.\n",
       "\n",
       "3️⃣ **Industry Changes**: Business Insider is cutting 21% of its workforce, highlighting the shift towards generative AI for news production amid declining web traffic.\n",
       "\n",
       "4️⃣ **Public Sentiment**: A recent poll shows 77% of Americans want to slow AI development to ensure safe progress—raising questions about the rapid pace of innovation.\n",
       "\n",
       "#ArtificialIntelligence #AI #Innovation #Healthcare #Media"
      ],
      "text/plain": [
       "<IPython.core.display.Markdown object>"
      ]
     },
     "metadata": {},
     "output_type": "display_data"
    }
   ],
   "source": [
    "system_message = \"\"\"\n",
    "You are a helpful assistant whos job is to accurately summarize long series of \n",
    "news articles provided to you by the user and write up a compelling and easy to \n",
    "digest social media post.\n",
    "\"\"\"\n",
    "\n",
    "prompt = f\"\"\"\n",
    "The following is a series of news articles on the field of AI. Please summarize\n",
    "the articles and write a compelling social media post for LinkedIn highlighting\n",
    "key points about each article.\n",
    "\n",
    "The post should be short and concise and should not be more than 100 words.\n",
    "\n",
    "{news_articles}\n",
    "\n",
    "\"\"\"\n",
    "\n",
    "completion = client.chat.completions.create(\n",
    "    model=\"gpt-4o-mini\",\n",
    "    messages=[\n",
    "        {\"role\": \"system\", \"content\": system_message},\n",
    "        {\n",
    "            \"role\": \"user\",\n",
    "            \"content\": prompt\n",
    "        }\n",
    "    ]\n",
    ")\n",
    "\n",
    "chat_response = completion.choices[0].message.content\n",
    "display(Markdown(chat_response))"
   ]
  },
  {
   "cell_type": "markdown",
   "metadata": {},
   "source": [
    "### Step 4: Enhance structure and layout"
   ]
  },
  {
   "cell_type": "code",
   "execution_count": 5,
   "metadata": {},
   "outputs": [
    {
     "data": {
      "text/markdown": [
       "Analysis and Reasoning:\n",
       "• The post uses a clear, bullet-point style and numbered list, which makes it easy to follow and digest for readers who aren’t deeply familiar with AI.  \n",
       "• The engaging language and use of emojis capture attention, but some details might be too brief for a LinkedIn audience seeking context and professional depth.  \n",
       "• While the key points (new partnerships, healthcare innovation, workforce changes, and public sentiment) are interesting, a bit more explanation about each topic and why it matters for professionals new to AI would improve comprehension.\n",
       "\n",
       "Restructured Post:\n",
       "Title: Transformative Moments in AI – What They Mean for Our Future\n",
       "\n",
       "Today’s rapidly evolving AI landscape presents exciting developments even for professionals new to this field:\n",
       "\n",
       "1. New Partnerships: \n",
       "The New York Times’ first AI licensing deal with Amazon is reshaping how editorial content is integrated across services. This move indicates broader trends in digital content management and collaboration between media and tech giants.\n",
       "\n",
       "2. Healthcare Innovation:\n",
       "AI is making a real difference in patient lives. Robin Leaper, an ALS patient, has regained her voice through advanced AI solutions – a powerful example of how technology can enhance healthcare and improve quality of life.\n",
       "\n",
       "3. Shifting Industry Dynamics:\n",
       "Business Insider’s decision to reduce its workforce by 21% highlights a major shift as generative AI becomes central to news production. This change reflects broader economic and technological pressures that professionals should closely monitor.\n",
       "\n",
       "4. Public Sentiment and Ethical Considerations:\n",
       "A recent poll found that 77% of Americans favor slowing down AI development to prioritize safety. This points to ongoing debates about balancing innovation with responsible, ethical growth in our society.\n",
       "\n",
       "By examining these developments, even those new to AI can appreciate how technology is beginning to influence various industries and impact everyday life. \n",
       "\n",
       "#ArtificialIntelligence #Innovation #Healthcare #Media #FutureOfWork"
      ],
      "text/plain": [
       "<IPython.core.display.Markdown object>"
      ]
     },
     "metadata": {},
     "output_type": "display_data"
    }
   ],
   "source": [
    "system_message = \"You are a helpful assistant.\"\n",
    "\n",
    "reasoning_prompt = f\"\"\"\n",
    "I've been given a social media post.\n",
    "\n",
    "I want you to analyze the style of writing and the key points mentioned in the post\n",
    "and provide me with a reasoning as to why this post is effective or not effective\n",
    "for a LinkedIn audience for those who may have little to no knowledge about AI.\n",
    "\n",
    "After this, restructure the post according to the suggestions you have provided.\n",
    "\n",
    "Please provide your reasoning in a few sentences.\n",
    "\n",
    "Here is the post for context:\n",
    "\n",
    "{chat_response}\n",
    "\"\"\"\n",
    "\n",
    "completion = client.chat.completions.create(\n",
    "    model=\"o3-mini\",\n",
    "    messages=[\n",
    "        {\"role\": \"system\", \"content\": system_message},\n",
    "        {\n",
    "            \"role\": \"user\",\n",
    "            \"content\": reasoning_prompt\n",
    "        }\n",
    "    ]\n",
    ")\n",
    "\n",
    "reasoning_response = completion.choices[0].message.content\n",
    "display(Markdown(reasoning_response))"
   ]
  },
  {
   "cell_type": "markdown",
   "metadata": {},
   "source": [
    "### Challenge!!\n",
    "\n",
    "Build your own social media post generator!!!\n",
    "\n",
    "**Instructions**\n",
    "1. Modify the above code to your liking and build out this project using any other frontier models instead of OpenAIs models.\n",
    "\n",
    "2. You can keep the second cell (where we are grabbing information from the web) as it is but have your chosen models summarize and create the post and analyze it using a reasoning or thinking model. (Bonus points for using another tool)\n",
    "\n",
    "3. Place your contributions in the community-contributions folder of this section.\n",
    "\n",
    "4. Copy the generated post to use for LinkedIn.\n",
    "\n",
    "5. Tag the [SuperDataScience Community Projects](https://www.linkedin.com/showcase/superdatascience-community-projects/?viewAsMember=true) page for a chance to have your post shared to the SDS LinkedIn community. "
   ]
  },
  {
   "cell_type": "code",
   "execution_count": null,
   "metadata": {},
   "outputs": [],
   "source": []
  }
 ],
 "metadata": {
  "kernelspec": {
   "display_name": "ai_env",
   "language": "python",
   "name": "python3"
  },
  "language_info": {
   "codemirror_mode": {
    "name": "ipython",
    "version": 3
   },
   "file_extension": ".py",
   "mimetype": "text/x-python",
   "name": "python",
   "nbconvert_exporter": "python",
   "pygments_lexer": "ipython3",
   "version": "3.13.3"
  }
 },
 "nbformat": 4,
 "nbformat_minor": 2
}
