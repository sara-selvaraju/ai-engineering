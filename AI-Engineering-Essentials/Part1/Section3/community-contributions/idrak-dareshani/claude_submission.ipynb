{
 "cells": [
  {
   "cell_type": "markdown",
   "metadata": {},
   "source": [
    "# Lecture 7: Working with Claude API and Reasoning Models\n",
    "\n",
    "### Overview\n",
    "\n",
    "Let's finally dive into the nitty-gritty and see how we can code with Claude.\n",
    "\n",
    "This notebook explores the Anthropic Claude API, focusing on how to leverage both standard chat capabilities and advanced reasoning features. We'll examine how to structure effective system prompts and create applications that utilize the model's extended thinking capabilities.\n",
    "\n",
    "### Objectives\n",
    "- Set up and configure the Anthropic Claude API\n",
    "- Create tailored system prompts for specific use cases\n",
    "- Compare standard responses with reasoning-enhanced outputs\n",
    "- Analyze the \"thinking\" process in reasoning models\n",
    "\n",
    "### Challenge\n",
    "Take the code we have used in this lecture and see if you can beat my overall score. Let's turn this into a friendly competition for all those tackling this project and compare the results you get :D\n",
    "\n",
    "Place your submission in the community-contributions folder by creating a folder with your name in it.\n",
    "\n",
    "### Version History\n",
    "\n",
    "Below you will find any updates I have made to the notebooks.\n",
    "\n",
    "**Please note** that some of the code may be different to what you have seen in the lectures as there may be bug fixes or improvements but the general objective of the notebook will remain the same.\n",
    "\n",
    "| Date | Version | Description of Changes |\n",
    "|------|---------|------------------------|\n",
    "| 2025-03-01 | v1.0 | Initial version |\n",
    "\n"
   ]
  },
  {
   "cell_type": "markdown",
   "metadata": {},
   "source": [
    "#### Step 1: Import libraries and load the environment variables"
   ]
  },
  {
   "cell_type": "code",
   "execution_count": 1,
   "metadata": {},
   "outputs": [],
   "source": [
    "import os\n",
    "import anthropic\n",
    "from dotenv import load_dotenv\n",
    "from IPython.display import Markdown, display\n",
    "\n",
    "load_dotenv()\n",
    "\n",
    "ANTHROPIC_API_KEY = os.getenv(\"ANTHROPIC_API_KEY\")\n",
    "\n",
    "if ANTHROPIC_API_KEY is None:\n",
    "    raise Exception(\"API key is missing\")"
   ]
  },
  {
   "cell_type": "markdown",
   "metadata": {},
   "source": [
    "#### Step 2: Call the API"
   ]
  },
  {
   "cell_type": "code",
   "execution_count": 2,
   "metadata": {},
   "outputs": [
    {
     "name": "stdout",
     "output_type": "stream",
     "text": [
      "# Salt Sea's Tale\n",
      "\n",
      "From ancient rocks, minerals flow,\n",
      "Through rivers' journey, down they go.\n",
      "Eons of weeping from the land,\n",
      "While water stays, salt makes its stand.\n",
      "\n",
      "The ocean weeps not, but collects—\n",
      "Earth's seasoned tears, time's dialect.\n"
     ]
    }
   ],
   "source": [
    "client = anthropic.Anthropic()\n",
    "\n",
    "message = client.messages.create(\n",
    "    model=\"claude-3-7-sonnet-20250219\",\n",
    "    max_tokens=1000,\n",
    "    temperature=1,\n",
    "    system=\"You are a world-class poet. Respond only with short poems.\",\n",
    "    messages=[\n",
    "        {\n",
    "            \"role\": \"user\",\n",
    "            \"content\": [\n",
    "                {\n",
    "                    \"type\": \"text\",\n",
    "                    \"text\": \"Why is the ocean salty?\"\n",
    "                }\n",
    "            ]\n",
    "        }\n",
    "    ]\n",
    ")\n",
    "print(message.content[0].text)"
   ]
  },
  {
   "cell_type": "markdown",
   "metadata": {},
   "source": [
    "#### Step 3: Customize the Prompt\n",
    "\n",
    "Customer service representative"
   ]
  },
  {
   "cell_type": "code",
   "execution_count": 3,
   "metadata": {},
   "outputs": [],
   "source": [
    "complaint = \"You have over charged me for this product. I demand a refund.\""
   ]
  },
  {
   "cell_type": "code",
   "execution_count": 4,
   "metadata": {},
   "outputs": [
    {
     "data": {
      "text/markdown": [
       "Subject: Regarding Your Refund Request - We're Here to Help\n",
       "\n",
       "Dear Valued Customer,\n",
       "\n",
       "Thank you for bringing this overcharging issue to our attention. I sincerely apologize for this error and understand your frustration.\n",
       "\n",
       "I've reviewed your account and can confirm that an incorrect amount was charged. We take billing accuracy very seriously, and I'm processing a full refund for the overcharged amount immediately. You should see this reflected in your account within 3-5 business days.\n",
       "\n",
       "As a gesture of goodwill for the inconvenience caused, we're also adding a 10% discount code for your next purchase: THANKYOU10.\n",
       "\n",
       "If you don't see the refund by Friday, or have any other questions, please contact me directly at customercare@company.com or call 555-123-4567.\n",
       "\n",
       "Again, I apologize for this mistake and appreciate your patience.\n",
       "\n",
       "Best regards,\n",
       "Customer Service Representative"
      ],
      "text/plain": [
       "<IPython.core.display.Markdown object>"
      ]
     },
     "metadata": {},
     "output_type": "display_data"
    }
   ],
   "source": [
    "system_message = \"You are an expert customer service representative. Respond realisticly.\"\n",
    "\n",
    "prompt = f\"\"\"\n",
    "Write a brief professional email response to an unhappy customer with the following issue:\n",
    "\n",
    "{complaint}\n",
    "\n",
    "Requirements:\n",
    "- Keep under 150 words\n",
    "- Maintain a professional but empathetic tone\n",
    "- Acknowledge the issue clearly\n",
    "- Offer a specific solution\n",
    "- Include a follow-up action\n",
    "\"\"\"\n",
    "\n",
    "message = client.messages.create(\n",
    "    model=\"claude-3-7-sonnet-20250219\",\n",
    "    max_tokens=1000,\n",
    "    temperature=0.7,\n",
    "    system=system_message,\n",
    "    messages=[\n",
    "        {\n",
    "            \"role\": \"user\",\n",
    "            \"content\": [\n",
    "                {\n",
    "                    \"type\": \"text\",\n",
    "                    \"text\": prompt\n",
    "                }\n",
    "            ]\n",
    "        }\n",
    "    ]\n",
    ")\n",
    "\n",
    "chat_response = message.content[0].text\n",
    "display(Markdown(chat_response))"
   ]
  },
  {
   "cell_type": "markdown",
   "metadata": {},
   "source": [
    "#### Step 4: Rate the response using a reasoning model"
   ]
  },
  {
   "cell_type": "code",
   "execution_count": 5,
   "metadata": {},
   "outputs": [
    {
     "name": "stdout",
     "output_type": "stream",
     "text": [
      "[ThinkingBlock(signature='ErUBCkYIAxgCIkA4kpqyS0TVKFhDaVDnLJWDE3JfpcroeHfNboIumF0Gslg79h0+QidgyZHoE1hmuLvuAY783QQZHeboHExb7P3+EgwHEvSosNNsph7wBFEaDAihYK897uqwMaZ2GSIw3wxtd5Y/+hq/Tyk8KIVn41loKlHlfKaUhpEV65n9IahyKj/oorLsC5Z6qxqRZ3TwKh1caIFmy8ThEMl1ZjGARlFVLxZLng9OSUO8vDOpWhgC', thinking='Let me evaluate this customer service email response based on the five provided categories:\\n\\n1. Professionalism (1-10):\\nThe email maintains a professional tone throughout, with proper salutation and closing. The representative acknowledges the issue clearly, offers a formal apology, and provides specific contact information for follow-up. The language is respectful and business-appropriate. There are no grammatical errors or informal language. The response is thorough without being overly lengthy. I would rate this 9/10 - Highly professional with appropriate formal tone and structure.\\n\\n2. Empathy (1-10):\\nThe response shows empathy by acknowledging the customer\\'s frustration, apologizing sincerely, and understanding the importance of the issue. Phrases like \"I sincerely apologize for this error and understand your frustration\" demonstrate emotional intelligence. The goodwill gesture of a 10% discount shows further understanding of the inconvenience caused. However, it could have personalized the response slightly more. I would rate this 8/10 - Good empathy with sincere apology and recognition of frustration.\\n\\n3. Problem Resolution (1-10):\\nThe response clearly addresses the specific complaint about overcharging, confirms that the issue has been verified, and provides a concrete solution (full refund). It also gives a specific timeframe for the refund (3-5 business days) and offers a follow-up date (Friday). Additionally, it provides multiple contact options if the issue persists and offers a goodwill gesture. The resolution is comprehensive. I would rate this 10/10 - Excellent resolution with verification, immediate action, timeframe, and follow-up options.\\n\\n4. Clarity (1-10):\\nThe email is well-structured with clear paragraphs that progress logically from acknowledging the issue to explaining the solution and follow-up steps. The language is straightforward without confusing jargon. Information about the refund timeline and follow-up options is explicit and easy to understand. I would rate this 9/10 - Very clear communication with logical structure and explicit timeline information.\\n\\n5. Brand Representation (1-10):\\nThe response represents the brand well by demonstrating accountability (\"I\\'ve reviewed your account and can confirm\"), commitment to service quality (\"We take billing accuracy very seriously\"), and generosity (10% discount as goodwill). The overall tone conveys a customer-focused company that values accuracy and is willing to make things right. I would rate this 9/10 - Strong positive brand representation showing accountability and customer focus.\\n\\nTotal score calculation:\\nProfessionalism: 9/10 = 18/20 (if we convert to a 20-point scale per category)\\nEmpathy: 8/10 = 16/20\\nProblem Resolution: 10/10 = 20/20\\nClarity: 9/10 = 18/20\\nBrand Representation: 9/10 = 18/20\\n\\nTotal score: 18 + 16 + 20 + 18 + 18 = 90/100', type='thinking'), TextBlock(citations=None, text='# Customer Service Email Evaluation\\n\\n## Detailed Assessment\\n\\n1. Professionalism (1-10): 9 - Maintains formal tone with appropriate business language, proper structure, and error-free writing.\\n\\n2. Empathy (1-10): 8 - Acknowledges frustration, offers sincere apology, and demonstrates understanding of the impact through both words and compensation.\\n\\n3. Problem Resolution (1-10): 10 - Excellent resolution with immediate action, verification of the error, clear timeline, and multiple follow-up options.\\n\\n4. Clarity (1-10): 9 - Communicates information in a straightforward manner with logical structure and specific details about the resolution process.\\n\\n5. Brand Representation (1-10): 9 - Represents the company as accountable, customer-focused, and willing to make things right through both words and actions.\\n\\n## TOTAL SCORE: 90/100\\n\\nThis is an excellent customer service response that addresses the complaint directly, takes immediate action, and goes beyond mere problem-solving by offering additional compensation. The response is professional yet personable, and provides clear next steps with specific timeline expectations.', type='text')]\n"
     ]
    }
   ],
   "source": [
    "system_message = \"You are an expert customer service representative. Evaluate the email response to be sent to a customer complaint.\"\n",
    "\n",
    "reasoning_prompt = f\"\"\"\n",
    "A customer has made a complaint.\n",
    "\n",
    "{complaint}\n",
    "\n",
    "Evaluate this customer service email response.\n",
    "\n",
    "{chat_response}\n",
    "\n",
    "Rate each category with ONE LINE explanation:\n",
    "\n",
    "1. Professionalism (1-10): [Score] - [One-line explanation]\n",
    "2. Empathy (1-10): [Score] - [One-line explanation]\n",
    "3. Problem Resolution (1-10): [Score] - [One-line explanation]\n",
    "4. Clarity (1-10): [Score] - [One-line explanation]\n",
    "5. Brand Representation (1-10): [Score] - [One-line explanation]\n",
    "\n",
    "TOTAL SCORE: [X/100]\n",
    "\"\"\"\n",
    "\n",
    "message = client.messages.create(\n",
    "    model=\"claude-3-7-sonnet-20250219\",\n",
    "    max_tokens=5000,\n",
    "    thinking={\n",
    "        \"type\": \"enabled\",\n",
    "        \"budget_tokens\": 3000\n",
    "    },\n",
    "    temperature=1,\n",
    "    system=system_message,\n",
    "    messages=[\n",
    "        {\n",
    "            \"role\": \"user\",\n",
    "            \"content\": [\n",
    "                {\n",
    "                    \"type\": \"text\",\n",
    "                    \"text\": reasoning_prompt\n",
    "                }\n",
    "            ]\n",
    "        }\n",
    "    ]\n",
    ")\n",
    "reasoning_response = message.content\n",
    "print(reasoning_response)"
   ]
  },
  {
   "cell_type": "code",
   "execution_count": 6,
   "metadata": {},
   "outputs": [
    {
     "data": {
      "text/markdown": [
       "# Customer Service Email Evaluation\n",
       "\n",
       "## Detailed Assessment\n",
       "\n",
       "1. Professionalism (1-10): 9 - Maintains formal tone with appropriate business language, proper structure, and error-free writing.\n",
       "\n",
       "2. Empathy (1-10): 8 - Acknowledges frustration, offers sincere apology, and demonstrates understanding of the impact through both words and compensation.\n",
       "\n",
       "3. Problem Resolution (1-10): 10 - Excellent resolution with immediate action, verification of the error, clear timeline, and multiple follow-up options.\n",
       "\n",
       "4. Clarity (1-10): 9 - Communicates information in a straightforward manner with logical structure and specific details about the resolution process.\n",
       "\n",
       "5. Brand Representation (1-10): 9 - Represents the company as accountable, customer-focused, and willing to make things right through both words and actions.\n",
       "\n",
       "## TOTAL SCORE: 90/100\n",
       "\n",
       "This is an excellent customer service response that addresses the complaint directly, takes immediate action, and goes beyond mere problem-solving by offering additional compensation. The response is professional yet personable, and provides clear next steps with specific timeline expectations."
      ],
      "text/plain": [
       "<IPython.core.display.Markdown object>"
      ]
     },
     "metadata": {},
     "output_type": "display_data"
    }
   ],
   "source": [
    "display(Markdown(reasoning_response[1].text))"
   ]
  },
  {
   "cell_type": "code",
   "execution_count": null,
   "metadata": {},
   "outputs": [],
   "source": []
  }
 ],
 "metadata": {
  "kernelspec": {
   "display_name": "ai_env",
   "language": "python",
   "name": "python3"
  },
  "language_info": {
   "codemirror_mode": {
    "name": "ipython",
    "version": 3
   },
   "file_extension": ".py",
   "mimetype": "text/x-python",
   "name": "python",
   "nbconvert_exporter": "python",
   "pygments_lexer": "ipython3",
   "version": "3.13.3"
  }
 },
 "nbformat": 4,
 "nbformat_minor": 2
}
