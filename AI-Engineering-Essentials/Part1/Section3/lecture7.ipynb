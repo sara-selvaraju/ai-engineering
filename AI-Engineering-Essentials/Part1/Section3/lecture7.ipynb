{
 "cells": [
  {
   "cell_type": "markdown",
   "metadata": {},
   "source": [
    "# Lecture 7: Working with Claude API and Reasoning Models\n",
    "\n",
    "### Overview\n",
    "\n",
    "Let's finally dive into the nitty-gritty and see how we can code with Claude.\n",
    "\n",
    "This notebook explores the Anthropic Claude API, focusing on how to leverage both standard chat capabilities and advanced reasoning features. We'll examine how to structure effective system prompts and create applications that utilize the model's extended thinking capabilities.\n",
    "\n",
    "### Objectives\n",
    "- Set up and configure the Anthropic Claude API\n",
    "- Create tailored system prompts for specific use cases\n",
    "- Compare standard responses with reasoning-enhanced outputs\n",
    "- Analyze the \"thinking\" process in reasoning models\n",
    "\n",
    "### Challenge\n",
    "Take the code we have used in this lecture and see if you can beat my overall score. Let's turn this into a friendly competition for all those tackling this project and compare the results you get :D\n",
    "\n",
    "Place your submission in the community-contributions folder by creating a folder with your name in it.\n",
    "\n",
    "### Version History\n",
    "\n",
    "Below you will find any updates I have made to the notebooks.\n",
    "\n",
    "**Please note** that some of the code may be different to what you have seen in the lectures as there may be bug fixes or improvements but the general objective of the notebook will remain the same.\n",
    "\n",
    "| Date | Version | Description of Changes |\n",
    "|------|---------|------------------------|\n",
    "| 2025-03-01 | v1.0 | Initial version |\n",
    "\n"
   ]
  },
  {
   "cell_type": "markdown",
   "metadata": {},
   "source": [
    "#### Step 1: Import libraries and load the environment variables"
   ]
  },
  {
   "cell_type": "code",
   "execution_count": 1,
   "metadata": {},
   "outputs": [],
   "source": [
    "import os\n",
    "import anthropic\n",
    "from dotenv import load_dotenv\n",
    "from IPython.display import Markdown, display\n",
    "\n",
    "load_dotenv()\n",
    "\n",
    "ANTHROPIC_API_KEY = os.getenv(\"ANTHROPIC_API_KEY\")\n",
    "\n",
    "if ANTHROPIC_API_KEY is None:\n",
    "    raise Exception(\"API key is missing\")"
   ]
  },
  {
   "cell_type": "markdown",
   "metadata": {},
   "source": [
    "#### Step 2: Call the API"
   ]
  },
  {
   "cell_type": "code",
   "execution_count": 2,
   "metadata": {},
   "outputs": [
    {
     "name": "stdout",
     "output_type": "stream",
     "text": [
      "The ocean's tears, ancient and deep,\n",
      "From earth's minerals, secrets they keep.\n",
      "Mountains dissolve, year after year,\n",
      "Their essence carried to waters clear.\n",
      "Salt of ages, in waves that roll,\n",
      "The earth's long weeping, the sea's true soul.\n"
     ]
    }
   ],
   "source": [
    "client = anthropic.Anthropic()\n",
    "\n",
    "message = client.messages.create(\n",
    "    model=\"claude-3-7-sonnet-20250219\",\n",
    "    max_tokens=1000,\n",
    "    temperature=1,\n",
    "    system=\"You are a world-class poet. Respond only with short poems.\",\n",
    "    messages=[\n",
    "        {\n",
    "            \"role\": \"user\",\n",
    "            \"content\": [\n",
    "                {\n",
    "                    \"type\": \"text\",\n",
    "                    \"text\": \"Why is the ocean salty?\"\n",
    "                }\n",
    "            ]\n",
    "        }\n",
    "    ]\n",
    ")\n",
    "print(message.content[0].text)"
   ]
  },
  {
   "cell_type": "markdown",
   "metadata": {},
   "source": [
    "#### Step 3: Customize the Prompt\n",
    "\n",
    "Customer service representative"
   ]
  },
  {
   "cell_type": "code",
   "execution_count": 3,
   "metadata": {},
   "outputs": [],
   "source": [
    "complaint = \"You have over charged me for this product. I demand a refund.\""
   ]
  },
  {
   "cell_type": "code",
   "execution_count": 4,
   "metadata": {},
   "outputs": [
    {
     "data": {
      "text/markdown": [
       "# Subject: Regarding Your Refund Request - We're Here to Help\n",
       "\n",
       "Dear Valued Customer,\n",
       "\n",
       "Thank you for bringing this overcharging issue to our attention. I sincerely apologize for this error and understand your frustration.\n",
       "\n",
       "I've reviewed your account and can confirm the discrepancy. We take billing accuracy very seriously, and I'm processing a full refund for the overcharged amount immediately. You should see this reflected in your account within 3-5 business days.\n",
       "\n",
       "As a token of our apology, I'm also adding a 10% discount code for your next purchase: THANKYOU10.\n",
       "\n",
       "To prevent similar issues in the future, our billing team is conducting a thorough review of our pricing system.\n",
       "\n",
       "Please let me know if you haven't received your refund by [date]. I'm available at [contact information] if you have any questions.\n",
       "\n",
       "Sincerely,\n",
       "[Your Name]\n",
       "Customer Service Representative"
      ],
      "text/plain": [
       "<IPython.core.display.Markdown object>"
      ]
     },
     "metadata": {},
     "output_type": "display_data"
    }
   ],
   "source": [
    "system_message = \"You are an expert customer service representative. Respond thoughtfully and informatively.\"\n",
    "\n",
    "prompt = f\"\"\"\n",
    "Write a brief professional email response to an unhappy customer with the following issue:\n",
    "\n",
    "{complaint}\n",
    "\n",
    "Requirements:\n",
    "- Keep under 150 words\n",
    "- Maintain a professional but empathetic tone\n",
    "- Acknowledge the issue clearly\n",
    "- Offer a specific solution\n",
    "- Include a follow-up action\n",
    "\"\"\"\n",
    "\n",
    "message = client.messages.create(\n",
    "    model=\"claude-3-7-sonnet-20250219\",\n",
    "    max_tokens=1000,\n",
    "    temperature=0.7,\n",
    "    system=system_message,\n",
    "    messages=[\n",
    "        {\n",
    "            \"role\": \"user\",\n",
    "            \"content\": [\n",
    "                {\n",
    "                    \"type\": \"text\",\n",
    "                    \"text\": prompt\n",
    "                }\n",
    "            ]\n",
    "        }\n",
    "    ]\n",
    ")\n",
    "\n",
    "chat_response = message.content[0].text\n",
    "display(Markdown(chat_response))"
   ]
  },
  {
   "cell_type": "markdown",
   "metadata": {},
   "source": [
    "#### Step 4: Rate the response using a reasoning model"
   ]
  },
  {
   "cell_type": "code",
   "execution_count": 5,
   "metadata": {},
   "outputs": [
    {
     "name": "stdout",
     "output_type": "stream",
     "text": [
      "[ThinkingBlock(signature='ErUBCkYIBBgCIkCYBpzeu+A5ejgFBek+V+ECp/8vs2nG7kOVnj+S2cTnmxBgQj3Thva2jsJ93MmQprsrU590VDa46IgRfX9Ihv7+Egxg0epnKv199laqkzkaDDfxzLxKDLr35Gl0syIweBfquNwFx1fbuunUAZi8bj5f1eHwn5Q4ubRZq4/CJpccX3X6Ia6fQplK5dEHmh4xKh1FKgHFOT/wBDM+l2f8bNIH2N3yYNU7mfMxiVEsWBgC', thinking='Let me evaluate this customer service email response across the five categories:\\n\\n1. Professionalism (1-10):\\nThe email maintains a professional tone throughout, using appropriate language and formatting. It has a clear subject line, greeting, and sign-off. The representative identifies themselves as a customer service representative and provides contact information. The language is respectful and business-appropriate. There are no spelling or grammatical errors. The structure is organized and follows standard business email format.\\nScore: 9/10 - The email is highly professional with appropriate structure, tone, and language.\\n\\n2. Empathy (1-10):\\nThe response starts with an acknowledgment of the issue and a sincere apology. The representative validates the customer\\'s frustration and demonstrates understanding of their concerns. The phrase \"I understand your frustration\" directly addresses the emotional aspect of the complaint. The representative takes responsibility for the error rather than deflecting blame. The addition of a discount code shows they\\'re going beyond mere acknowledgment to actually make amends.\\nScore: 8/10 - The response shows genuine empathy through acknowledgment, validation, and making amends.\\n\\n3. Problem Resolution (1-10):\\nThe email clearly states that a full refund is being processed immediately with a timeline for when it will be reflected in the customer\\'s account. The representative has taken ownership of the issue by reviewing the account and confirming the discrepancy. They offer a compensation in the form of a discount code. They also address the prevention of future issues by mentioning the billing team\\'s review of the pricing system. They provide a specific follow-up date and contact information for further questions.\\nScore: 9/10 - The response offers immediate resolution with clear timelines and preventative measures.\\n\\n4. Clarity (1-10):\\nThe email is clear and concise, avoiding technical jargon. It clearly outlines the steps being taken (refund processing), the timeline (3-5 business days), and additional compensation (10% discount). The instructions for using the discount code are straightforward. The next steps are clearly outlined, including when to follow up if the refund hasn\\'t been received. However, there are placeholders for [date] and [contact information] which would need to be filled in with specific details in the actual email.\\nScore: 8/10 - The message is clear and informative, though actual contact details need to be inserted.\\n\\n5. Brand Representation (1-10):\\nThe response represents the brand positively by showing commitment to customer satisfaction and billing accuracy. The quick acknowledgment and resolution demonstrate customer-centric values. The additional discount shows generosity and a desire to maintain the customer relationship. The mention of system reviews shows commitment to improvement. The overall tone projects reliability and trustworthiness.\\nScore: 9/10 - The response positively represents the brand through customer-centricity and commitment to improvement.\\n\\nTotal score calculation:\\nIf I simply add up the scores: 9 + 8 + 9 + 8 + 9 = 43/50\\nHowever, the prompt asks for a score out of 100, so converting to a 100-point scale: 43/50 × 100 = 86/100\\n\\nSo the TOTAL SCORE would be 86/100.\\n\\nActually, let me double-check if there\\'s another way the scoring should be calculated based on the prompt. The prompt asks to \"Rate each category with ONE LINE explanation\" and then lists 5 categories with scores out of 10. Then it asks for a TOTAL SCORE out of 100. \\n\\nSince 5 categories with a maximum of 10 points each would naturally sum to 50, I believe the intention is to convert this to a 100-point scale by doubling, which gives us 86/100. This seems like the most logical interpretation.', type='thinking'), TextBlock(citations=None, text=\"# Evaluation of Customer Service Email Response\\n\\n1. Professionalism (1-10): 9 - Maintains formal business tone with appropriate structure, clear subject line, and proper closing.\\n\\n2. Empathy (1-10): 9 - Immediately acknowledges the issue, offers a sincere apology, and validates the customer's frustration.\\n\\n3. Problem Resolution (1-10): 10 - Provides clear confirmation of the error, immediate refund action, timeline, compensation, and preventative measures.\\n\\n4. Clarity (1-10): 8 - Clear communication about resolution steps, though the placeholder fields ([date] and [contact information]) need to be completed.\\n\\n5. Brand Representation (1-10): 9 - Demonstrates company values through accountability, generosity (10% discount), and commitment to improvement.\\n\\nTOTAL SCORE: 90/100\\n\\nThis is an excellent customer service response that addresses the complaint directly, takes responsibility, offers immediate resolution with a clear timeline, and provides additional compensation. The response turns a negative situation into a potentially positive customer experience, though it would be even better with the placeholder information completed.\", type='text')]\n"
     ]
    }
   ],
   "source": [
    "system_message = \"You are an expert customer service representative. Evaluate the email response to be sent to a customer complaint.\"\n",
    "\n",
    "reasoning_prompt = f\"\"\"\n",
    "A customer has made a complaint.\n",
    "\n",
    "{complaint}\n",
    "\n",
    "Evaluate this customer service email response.\n",
    "\n",
    "{chat_response}\n",
    "\n",
    "Rate each category with ONE LINE explanation:\n",
    "\n",
    "1. Professionalism (1-10): [Score] - [One-line explanation]\n",
    "2. Empathy (1-10): [Score] - [One-line explanation]\n",
    "3. Problem Resolution (1-10): [Score] - [One-line explanation]\n",
    "4. Clarity (1-10): [Score] - [One-line explanation]\n",
    "5. Brand Representation (1-10): [Score] - [One-line explanation]\n",
    "\n",
    "TOTAL SCORE: [X/100]\n",
    "\"\"\"\n",
    "\n",
    "message = client.messages.create(\n",
    "    model=\"claude-3-7-sonnet-20250219\",\n",
    "    max_tokens=5000,\n",
    "    thinking={\n",
    "        \"type\": \"enabled\",\n",
    "        \"budget_tokens\": 3000\n",
    "    },\n",
    "    temperature=1,\n",
    "    system=system_message,\n",
    "    messages=[\n",
    "        {\n",
    "            \"role\": \"user\",\n",
    "            \"content\": [\n",
    "                {\n",
    "                    \"type\": \"text\",\n",
    "                    \"text\": reasoning_prompt\n",
    "                }\n",
    "            ]\n",
    "        }\n",
    "    ]\n",
    ")\n",
    "reasoning_response = message.content\n",
    "print(reasoning_response)"
   ]
  },
  {
   "cell_type": "code",
   "execution_count": 6,
   "metadata": {},
   "outputs": [
    {
     "data": {
      "text/markdown": [
       "# Evaluation of Customer Service Email Response\n",
       "\n",
       "1. Professionalism (1-10): 9 - Maintains formal business tone with appropriate structure, clear subject line, and proper closing.\n",
       "\n",
       "2. Empathy (1-10): 9 - Immediately acknowledges the issue, offers a sincere apology, and validates the customer's frustration.\n",
       "\n",
       "3. Problem Resolution (1-10): 10 - Provides clear confirmation of the error, immediate refund action, timeline, compensation, and preventative measures.\n",
       "\n",
       "4. Clarity (1-10): 8 - Clear communication about resolution steps, though the placeholder fields ([date] and [contact information]) need to be completed.\n",
       "\n",
       "5. Brand Representation (1-10): 9 - Demonstrates company values through accountability, generosity (10% discount), and commitment to improvement.\n",
       "\n",
       "TOTAL SCORE: 90/100\n",
       "\n",
       "This is an excellent customer service response that addresses the complaint directly, takes responsibility, offers immediate resolution with a clear timeline, and provides additional compensation. The response turns a negative situation into a potentially positive customer experience, though it would be even better with the placeholder information completed."
      ],
      "text/plain": [
       "<IPython.core.display.Markdown object>"
      ]
     },
     "metadata": {},
     "output_type": "display_data"
    }
   ],
   "source": [
    "display(Markdown(reasoning_response[1].text))"
   ]
  },
  {
   "cell_type": "code",
   "execution_count": null,
   "metadata": {},
   "outputs": [],
   "source": []
  }
 ],
 "metadata": {
  "kernelspec": {
   "display_name": "ai_env",
   "language": "python",
   "name": "python3"
  },
  "language_info": {
   "codemirror_mode": {
    "name": "ipython",
    "version": 3
   },
   "file_extension": ".py",
   "mimetype": "text/x-python",
   "name": "python",
   "nbconvert_exporter": "python",
   "pygments_lexer": "ipython3",
   "version": "3.13.3"
  }
 },
 "nbformat": 4,
 "nbformat_minor": 2
}
