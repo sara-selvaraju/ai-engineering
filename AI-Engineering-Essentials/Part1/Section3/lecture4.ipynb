{
 "cells": [
  {
   "cell_type": "markdown",
   "metadata": {},
   "source": [
    "# Lecture 4: Working with OpenAI API and Reasoning Models\n",
    "\n",
    "### Overview\n",
    "\n",
    "And now comes the sun part!!! Let's get our hands dirty with calling the ChatGPT models using code.\n",
    "\n",
    "This notebook demonstrates how to use the OpenAI API to create various AI-powered applications. We'll explore how to structure prompts, understand API responses, and evaluate model outputs using reasoning capabilities.\n",
    "\n",
    "### Objectives\n",
    "- Set up and configure the OpenAI API with proper authentication\n",
    "- Create effective prompts for different use cases\n",
    "- Process and display AI-generated responses\n",
    "- Compare standard chat models with reasoning models for evaluation tasks\n",
    "\n",
    "### Challenge\n",
    "Take the code we have used in this lecture and see if you can beat my overall score. Let's turn this into a friendly competition for all those tackling this project and compare the results you get :D\n",
    "\n",
    "Place your submission in the community-contributions folder by creating a folder with your name in it.\n",
    "\n",
    "### Version History\n",
    "\n",
    "Below you will find any updates I have made to the notebooks.\n",
    "\n",
    "**Please note** that some of the code may be different to what you have seen in the lectures as there may be bug fixes or improvements but the general objective of the notebook will remain the same.\n",
    "\n",
    "| Date | Version | Description of Changes |\n",
    "|------|---------|------------------------|\n",
    "| 2025-03-01 | v1.0 | Initial version |\n",
    "\n"
   ]
  },
  {
   "cell_type": "markdown",
   "metadata": {},
   "source": [
    "#### Step 1: Import libraries and load the environment variables"
   ]
  },
  {
   "cell_type": "code",
   "execution_count": 1,
   "metadata": {},
   "outputs": [],
   "source": [
    "import os\n",
    "from openai import OpenAI\n",
    "from dotenv import load_dotenv\n",
    "from IPython.display import Markdown, display\n",
    "\n",
    "load_dotenv()\n",
    "\n",
    "OPENAI_API_KEY = os.getenv(\"OPENAI_API_KEY\")\n",
    "\n",
    "if OPENAI_API_KEY is None:\n",
    "    raise Exception(\"API key is missing\")"
   ]
  },
  {
   "cell_type": "markdown",
   "metadata": {},
   "source": [
    "#### Step 2: Call the API"
   ]
  },
  {
   "cell_type": "code",
   "execution_count": 2,
   "metadata": {},
   "outputs": [
    {
     "name": "stdout",
     "output_type": "stream",
     "text": [
      "Calls within themselves,  \n",
      "Endless loops of nested thought,  \n",
      "Base case breaks the chain.\n"
     ]
    }
   ],
   "source": [
    "client = OpenAI()\n",
    "\n",
    "completion = client.chat.completions.create(\n",
    "    model=\"gpt-4o-mini\",\n",
    "    messages=[\n",
    "        {\"role\": \"system\", \"content\": \"You are a helpful assistant.\"},\n",
    "        {\n",
    "            \"role\": \"user\",\n",
    "            \"content\": \"Write a haiku about recursion in programming.\"\n",
    "        }\n",
    "    ]\n",
    ")\n",
    "\n",
    "print(completion.choices[0].message.content)"
   ]
  },
  {
   "cell_type": "markdown",
   "metadata": {},
   "source": [
    "#### Message list"
   ]
  },
  {
   "cell_type": "code",
   "execution_count": 3,
   "metadata": {},
   "outputs": [],
   "source": [
    "messages = [\n",
    "    {\"role\": \"system\", \"content\": \"You are a helpful assistant.\"},\n",
    "    {\"role\": \"user\",\"content\": \"Write a haiku about recursion in programming.\"},\n",
    "    {\"role\": \"assistant\", \"content\": \"Functions call themselves, Layers of thought intertwined,Depths of logic dance.\"},\n",
    "    {\"role\": \"user\",\"content\": \"I don't like this hiku.\"},\n",
    "    {\"role\": \"assistant\", \"content\": \"I'm sorry to hear that. Would you like me to try again?\"}\n",
    "]"
   ]
  },
  {
   "cell_type": "markdown",
   "metadata": {},
   "source": [
    "#### Step 3: Customize the User Prompt\n",
    "\n",
    "Build a travel itinerary"
   ]
  },
  {
   "cell_type": "code",
   "execution_count": 4,
   "metadata": {},
   "outputs": [
    {
     "data": {
      "text/markdown": [
       "**Travel Itinerary for Japan (Family of 4)**\n",
       "\n",
       "**Total Budget: $500**\n",
       "\n",
       "---\n",
       "\n",
       "**DAY 1: Friday**\n",
       "- **Morning:** Visit to the Senso-ji Temple in Asakusa - Free  \n",
       "  (Explore the temple grounds and Nakamise shopping street)\n",
       "- **Afternoon:** Lunch at a local ramen shop - $40  \n",
       "- **Evening:** Sunset walk along the Sumida River and dinner with street food - $40  \n",
       "  (Try local delicacies like takoyaki and yakitori)\n",
       "\n",
       "**DAY 1 Total: $80**\n",
       "\n",
       "---\n",
       "\n",
       "**DAY 2: Saturday**\n",
       "- **Morning:** Explore Ueno Park (museum visit optional with family tickets) - Free  \n",
       "  (Enjoy the greenery and maybe see some street performers or play areas for children)\n",
       "- **Afternoon:** Tokyo National Museum (Family ticket) - $25  \n",
       "- **Evening:** Traditional Japanese dinner at an izakaya - $70  \n",
       "  (Choose family-friendly dining options, with grilled meats and rice)\n",
       "\n",
       "**DAY 2 Total: $95**\n",
       "\n",
       "---\n",
       "\n",
       "**DAY 3: Sunday**\n",
       "- **Morning:** Day trip to Odaiba (Explore DiverCity and teamLab Borderless exhibits) - $30 (for transportation)  \n",
       "  (Stroll through the futuristic district)\n",
       "- **Afternoon:** Visiting teamLab Borderless (children's area especially enjoyable) - $60  \n",
       "- **Evening:** Dinner at a family-friendly chain restaurant (like Yoshinoya) - $40  \n",
       "\n",
       "**DAY 3 Total: $130**\n",
       "\n",
       "---\n",
       "\n",
       "**Overall Costs Summary:**\n",
       "- **DAY 1:** $80  \n",
       "- **DAY 2:** $95  \n",
       "- **DAY 3:** $130  \n",
       "\n",
       "**Grand Total: $305**\n",
       "\n",
       "**Remaining Budget for Souvenirs/Extras: $195**"
      ],
      "text/plain": [
       "<IPython.core.display.Markdown object>"
      ]
     },
     "metadata": {},
     "output_type": "display_data"
    }
   ],
   "source": [
    "system_message = \"You are a helpful assistant.\"\n",
    "\n",
    "prompt = \"\"\"\n",
    "Create a BRIEF travel itinerary for the following scenario:\n",
    "\n",
    "Travelers: A family of 4 with 2 adults and 2 children (ages 8 and 10)\n",
    "Destination: Japan\n",
    "Duration: 3 days\n",
    "Budget: $500\n",
    "\n",
    "Requirements:\n",
    "- Keep the entire itinerary under 400 words\n",
    "- Use bullet points for each activity\n",
    "- Include only 3 activities per day (morning, afternoon, evening)\n",
    "- List approximate cost for each activity\n",
    "- Ensure variety (cultural, outdoor, local experience)\n",
    "\n",
    "Format each day as:\n",
    "DAY 1: [Day of week]\n",
    "- Morning: [Activity] - $XX\n",
    "- Afternoon: [Activity] - $XX\n",
    "- Evening: [Activity/meal] - $XX\n",
    "\n",
    "End with a simple total cost summary.\n",
    "\"\"\"\n",
    "\n",
    "completion = client.chat.completions.create(\n",
    "    model=\"gpt-4o-mini\",\n",
    "    messages=[\n",
    "        {\"role\": \"system\", \"content\": system_message},\n",
    "        {\n",
    "            \"role\": \"user\",\n",
    "            \"content\": prompt\n",
    "        }\n",
    "    ]\n",
    ")\n",
    "\n",
    "chat_response = completion.choices[0].message.content\n",
    "display(Markdown(chat_response))"
   ]
  },
  {
   "cell_type": "markdown",
   "metadata": {},
   "source": [
    "#### Step 4: Rate the response using a reasoning model"
   ]
  },
  {
   "cell_type": "code",
   "execution_count": 5,
   "metadata": {},
   "outputs": [
    {
     "data": {
      "text/markdown": [
       "1. Budget (9/10) – Smart cost management with plenty left over for souvenirs or unexpected expenses.  \n",
       "2. Travel Time (7/10) – Efficient schedule overall, though transitions between venues might feel a bit rushed.  \n",
       "3. Variety (8/10) – A well-rounded mix of cultural, modern, and leisure activities for diverse interests.  \n",
       "4. Family-Friendly (9/10) – Activities are engaging and accessible for both kids and adults throughout the trip.  \n",
       "5. Local Experience (9/10) – Offers authentic visits to temples, local eateries, and traditional food, capturing Japan’s essence.  \n",
       "6. Cohesiveness (8/10) – A logical flow from one activity to another, though some segments could benefit from additional downtime.  \n",
       "\n",
       "TOTAL SCORE: 83/100"
      ],
      "text/plain": [
       "<IPython.core.display.Markdown object>"
      ]
     },
     "metadata": {},
     "output_type": "display_data"
    }
   ],
   "source": [
    "system_message = \"You are a helpful assistant.\"\n",
    "\n",
    "reasoning_prompt = f\"\"\"\n",
    "I've been given this travel itinerary:\n",
    "\n",
    "{chat_response}\n",
    "\n",
    "Provide a BRIEF rating in each category with ONE LINE of explanation:\n",
    "\n",
    "1. Budget (1-10): [Score] - [One-line explanation]\n",
    "2. Travel Time (1-10): [Score] - [One-line explanation]\n",
    "3. Variety (1-10): [Score] - [One-line explanation]\n",
    "4. Family-Friendly (1-10): [Score] - [One-line explanation]\n",
    "5. Local Experience (1-10): [Score] - [One-line explanation]\n",
    "6. Cohesiveness (1-10): [Score] - [One-line explanation]\n",
    "\n",
    "TOTAL SCORE: [X/100]\n",
    "\"\"\"\n",
    "\n",
    "completion = client.chat.completions.create(\n",
    "    model=\"o3-mini\",\n",
    "    messages=[\n",
    "        {\"role\": \"system\", \"content\": system_message},\n",
    "        {\n",
    "            \"role\": \"user\",\n",
    "            \"content\": reasoning_prompt\n",
    "        }\n",
    "    ]\n",
    ")\n",
    "\n",
    "reasoning_response = completion.choices[0].message.content\n",
    "display(Markdown(reasoning_response))"
   ]
  }
 ],
 "metadata": {
  "kernelspec": {
   "display_name": "ai_env",
   "language": "python",
   "name": "python3"
  },
  "language_info": {
   "codemirror_mode": {
    "name": "ipython",
    "version": 3
   },
   "file_extension": ".py",
   "mimetype": "text/x-python",
   "name": "python",
   "nbconvert_exporter": "python",
   "pygments_lexer": "ipython3",
   "version": "3.13.3"
  }
 },
 "nbformat": 4,
 "nbformat_minor": 2
}
